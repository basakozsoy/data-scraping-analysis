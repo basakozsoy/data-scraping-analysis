{
  "cells": [
    {
      "cell_type": "markdown",
      "metadata": {
        "id": "K-x2ORDVYhFy"
      },
      "source": [
        "# Data scraper for Trendyol"
      ]
    },
    {
      "cell_type": "markdown",
      "metadata": {
        "id": "XigCbIEhETwz"
      },
      "source": [
        "## Install & Import Dependencies"
      ]
    },
    {
      "cell_type": "code",
      "execution_count": 1,
      "metadata": {
        "id": "gDgotdZ1NsKT"
      },
      "outputs": [
        {
          "name": "stdout",
          "output_type": "stream",
          "text": [
            "Note: you may need to restart the kernel to use updated packages.\n"
          ]
        }
      ],
      "source": [
        "%pip install selenium pandas numpy beautifulsoup4 -q "
      ]
    },
    {
      "cell_type": "code",
      "execution_count": 2,
      "metadata": {
        "id": "uveNnUj4jHQ9"
      },
      "outputs": [],
      "source": [
        "import time\n",
        "import requests\n",
        "\n",
        "from bs4 import BeautifulSoup\n",
        "import pandas as pd\n",
        "\n",
        "from selenium import webdriver\n",
        "from selenium.webdriver.chrome.options import Options\n",
        "from concurrent.futures import ThreadPoolExecutor"
      ]
    },
    {
      "cell_type": "markdown",
      "metadata": {
        "id": "YQd7i2ueEb78"
      },
      "source": [
        "## Define functions"
      ]
    },
    {
      "cell_type": "code",
      "execution_count": 3,
      "metadata": {},
      "outputs": [],
      "source": [
        "def calculate_ratings(product):\n",
        "    star_w_elements = product.find_all('div', class_='star-w')\n",
        "    total_rating = 0\n",
        "\n",
        "    if star_w_elements:\n",
        "        for star_w in star_w_elements:\n",
        "            full_div = star_w.find(\"div\", attrs={\"class\": \"full\"})\n",
        "            if full_div:\n",
        "                style = full_div.get('style')\n",
        "                if style:\n",
        "                    try:\n",
        "                        style_width = style.split('width:')[1].split(';')[0]\n",
        "                        if '0px' in style:\n",
        "                            width_percentage = 0\n",
        "                        else:\n",
        "                            width_percentage_str = style_width.split('%')[0]\n",
        "                            width_percentage = float(width_percentage_str)\n",
        "                        rating = width_percentage / 100\n",
        "                        total_rating += rating\n",
        "                    except (IndexError, ValueError) as e:\n",
        "                        print(f\"Unexpected style format: {style}\")\n",
        "\n",
        "        total_rating = round(total_rating, 1)\n",
        "    else:\n",
        "        total_rating = \"unrated\"\n",
        "\n",
        "    return total_rating\n"
      ]
    },
    {
      "cell_type": "code",
      "execution_count": 4,
      "metadata": {
        "id": "CdVBVnrfVQeu"
      },
      "outputs": [],
      "source": [
        "def scroll_down(reviews_link, driver):\n",
        "    driver.get(reviews_link)\n",
        "\n",
        "    screen_height = driver.execute_script(\"return window.screen.height;\")  # Browser window height\n",
        "    i = 1\n",
        "    while True:\n",
        "        driver.execute_script(f\"window.scrollTo(0, {screen_height * i});\")\n",
        "        i += 1\n",
        "        time.sleep(1) # crucial, need to wait\n",
        "        scroll_height = driver.execute_script(\"return document.body.scrollHeight;\")\n",
        "        if screen_height * i > scroll_height:\n",
        "            break\n",
        "\n",
        "    new_soup = BeautifulSoup(driver.page_source, \"html.parser\")\n",
        "\n",
        "    return new_soup"
      ]
    },
    {
      "cell_type": "code",
      "execution_count": 5,
      "metadata": {
        "id": "jc8Da_vE0ae-"
      },
      "outputs": [],
      "source": [
        "def get_images_from_review(review):\n",
        "  image_links = []\n",
        "  comment_photos = review.find('div', class_='comment-photos')\n",
        "  if comment_photos:\n",
        "    image_containers = comment_photos.find_all('div', class_='item review-image')\n",
        "    for container in image_containers:\n",
        "      style = container.get('style')\n",
        "      if style:\n",
        "        start_index = style.find('\"') + 1\n",
        "        end_index = style.find('\"', start_index)\n",
        "        image_link = style[start_index:end_index]\n",
        "        image_link = image_link.replace('/mnresize/144/144', '')\n",
        "        image_links.append(image_link)\n",
        "\n",
        "  return image_links"
      ]
    },
    {
      "cell_type": "code",
      "execution_count": 6,
      "metadata": {
        "id": "gbd_DgbzGSB6"
      },
      "outputs": [],
      "source": [
        "def get_reviews(reviews_link, driver):\n",
        "  all_reviews = scroll_down(reviews_link, driver)\n",
        "  reviews_list = []\n",
        "  reviews = all_reviews.find_all(\"div\", attrs={\"class\": \"comment\"})\n",
        "\n",
        "  rating_scores = {5.0: 0, 4.0: 0, 3.0: 0, 2.0: 0, 1.0: 0}\n",
        "\n",
        "  for review in reviews:\n",
        "    rating = calculate_ratings(review)\n",
        "\n",
        "    rating_scores[rating] += 1\n",
        "    review_text = review.find(\"div\", class_=\"comment-text\").text.strip() if review.find(\"div\", class_=\"comment-text\") else None\n",
        "    reviewer_name = review.find(\"div\", class_=\"comment-info-item\").text.strip() if review.find(\"div\", class_=\"comment-info-item\") else None\n",
        "    review_date = review.find_all(\"div\", class_=\"comment-info-item\")[1].text.strip() if review.find_all(\"div\", class_=\"comment-info-item\") else None\n",
        "    seller_name_info = review.find('span', class_='seller-name-info').text.strip() if review.find_all(\"span\", class_=\"seller-name-info\") else None\n",
        "\n",
        "    image_links = get_images_from_review(review)\n",
        "    review_info = {\n",
        "        'rating': rating,\n",
        "        'reviewer_name': reviewer_name,\n",
        "        'review_date': review_date,\n",
        "        'review_text': review_text,\n",
        "        'image_links': image_links,\n",
        "        'seller_name_info': seller_name_info\n",
        "    }\n",
        "    \n",
        "    reviews_list.append(review_info)\n",
        "\n",
        "  return reviews_list, rating_scores"
      ]
    },
    {
      "cell_type": "code",
      "execution_count": 7,
      "metadata": {},
      "outputs": [],
      "source": [
        "def create_product_dict(index, product, driver):\n",
        "    product_dict = {}\n",
        "\n",
        "    product_dict['index'] = index\n",
        "\n",
        "    product_brand_span = product.find('span', class_='prdct-desc-cntnr-ttl')\n",
        "    product_brand = product_brand_span.text.strip() if product_brand_span else None\n",
        "    product_dict['brand'] = product_brand\n",
        "\n",
        "    product_name_span = product.find('span', class_='prdct-desc-cntnr-name')\n",
        "    product_name = product_name_span.get('title') if product_name_span else None\n",
        "    product_dict['name'] =  product_name\n",
        "\n",
        "    product_price_div = product.find('div', class_='prc-box-dscntd')\n",
        "    product_price = product_price_div.text.strip() if product_price_div else None\n",
        "    product_dict['price'] = float(product_price.replace('TL', '').replace('.', '').replace(',', '.')) if product_price else None\n",
        "\n",
        "    rating_count_span = product.find('span', class_='ratingCount')\n",
        "    rating_count = rating_count_span.text.strip()[1:-1] if rating_count_span else None\n",
        "    product_dict['rating_count'] = int(rating_count) if rating_count else None\n",
        "\n",
        "    rating = calculate_ratings(product)\n",
        "    product_dict['rating'] =  rating\n",
        "\n",
        "    #print('index: ', index)\n",
        "    #print('product_brand: ', product_brand)\n",
        "    #print('product_name: ', product_name)\n",
        "    #print('product_price: ', product_price)\n",
        "    #print('rating_count: ', rating_count)\n",
        "    #print('rating', rating)\n",
        "\n",
        "    product_link_a = product.find('a')\n",
        "    product_href = product_link_a.get('href') if product_link_a else None\n",
        "    if product_href:\n",
        "        product_href0 = product_href.split('?')[0]\n",
        "        product_href1 = product_href.split('?')[1]\n",
        "        reviews_link = f\"https://www.trendyol.com{product_href0}/yorumlar?{product_href1}\"\n",
        "\n",
        "        reviews_list, rating_scores = get_reviews(reviews_link, driver)\n",
        "        product_dict['reviews'] = reviews_list\n",
        "        product_dict['rating_scores'] = rating_scores\n",
        "\n",
        "    return product_dict"
      ]
    },
    {
      "cell_type": "markdown",
      "metadata": {
        "id": "6VcAlwSeEe7y"
      },
      "source": [
        "## Scrape & create dataset containing top items and their reviews"
      ]
    },
    {
      "cell_type": "code",
      "execution_count": 8,
      "metadata": {},
      "outputs": [
        {
          "name": "stdout",
          "output_type": "stream",
          "text": [
            "scraping page:  1\n",
            "scraping page:  2\n",
            "scraping page:  3\n",
            "scraping page:  4\n",
            "scraping page:  5\n"
          ]
        }
      ],
      "source": [
        "base_url = \"https://www.trendyol.com/laptop-x-c103108?sst=BEST_SELLER&pi=\"\n",
        "header = {\n",
        "    \"User-Agent\": \"Mozilla/5.0 (Windows NT 10.0; Win64; x64) AppleWebKit/537.36 (KHTML, like Gecko) Chrome/112.0.0.0 Safari/537.36 OPR/98.0.0.0\",\n",
        "}\n",
        "\n",
        "start_page = 1\n",
        "end_page = 5\n",
        "num_workers = 8\n",
        "\n",
        "products_list = []\n",
        "\n",
        "def fetch_page_content(page_number):\n",
        "    url = base_url + str(page_number)\n",
        "    r = requests.get(url, headers=header)\n",
        "    soup = BeautifulSoup(r.content, \"html.parser\", from_encoding=\"utf-8\")\n",
        "    return soup\n",
        "\n",
        "def process_product(index, product):\n",
        "    options = Options()\n",
        "    options.add_argument('--headless=new')\n",
        "    driver = webdriver.Chrome(options=options)\n",
        "\n",
        "    try:\n",
        "        product_dict = create_product_dict(index, product, driver)\n",
        "        pass\n",
        "    finally:\n",
        "        driver.quit()\n",
        "\n",
        "    return product_dict\n",
        "\n",
        "def add_product(index, product):\n",
        "    product_dict = process_product(index, product)\n",
        "    products_list.append(product_dict)\n",
        "\n",
        "# needed for keeping the correct index of products during parallelization\n",
        "start_index = 0\n",
        "\n",
        "def process_page(page_number):\n",
        "    global start_index\n",
        "    soup = fetch_page_content(page_number)\n",
        "    products = soup.find_all(\"div\", attrs={\"class\": \"p-card-wrppr with-campaign-view\"})\n",
        "    \n",
        "    args_list = [(index, product) for index, product in enumerate(products, start=start_index)]\n",
        "\n",
        "    with ThreadPoolExecutor(num_workers) as executor:\n",
        "        executor.map(lambda args: add_product(*args), args_list)\n",
        "\n",
        "    # increase start_index for the new page\n",
        "    start_index += len(products)\n",
        "\n",
        "for page_number in range(start_page, end_page + 1):\n",
        "    print('scraping page: ', page_number)\n",
        "    process_page(page_number)\n",
        "\n",
        "df = pd.DataFrame(products_list)\n",
        "df = df.sort_values(by=['index']).reset_index(drop = True)\n",
        "df.to_csv('example_output.csv', encoding=\"utf-8\")"
      ]
    },
    {
      "cell_type": "code",
      "execution_count": null,
      "metadata": {},
      "outputs": [
        {
          "data": {
            "text/html": [
              "<div>\n",
              "<style scoped>\n",
              "    .dataframe tbody tr th:only-of-type {\n",
              "        vertical-align: middle;\n",
              "    }\n",
              "\n",
              "    .dataframe tbody tr th {\n",
              "        vertical-align: top;\n",
              "    }\n",
              "\n",
              "    .dataframe thead th {\n",
              "        text-align: right;\n",
              "    }\n",
              "</style>\n",
              "<table border=\"1\" class=\"dataframe\">\n",
              "  <thead>\n",
              "    <tr style=\"text-align: right;\">\n",
              "      <th></th>\n",
              "      <th>index</th>\n",
              "      <th>brand</th>\n",
              "      <th>name</th>\n",
              "      <th>price</th>\n",
              "      <th>rating_count</th>\n",
              "      <th>rating</th>\n",
              "      <th>reviews</th>\n",
              "      <th>rating_scores</th>\n",
              "    </tr>\n",
              "  </thead>\n",
              "  <tbody>\n",
              "    <tr>\n",
              "      <th>0</th>\n",
              "      <td>0</td>\n",
              "      <td>Casper</td>\n",
              "      <td>Excalibur G870.1245-DFB0X-B Intel Core i5-1245...</td>\n",
              "      <td>27999.0</td>\n",
              "      <td>141.0</td>\n",
              "      <td>4.64</td>\n",
              "      <td>[{'rating': 5.0, 'reviewer_name': 'Emre Ş.', '...</td>\n",
              "      <td>{5.0: 79, 4.0: 8, 3.0: 4, 2.0: 0, 1.0: 4}</td>\n",
              "    </tr>\n",
              "    <tr>\n",
              "      <th>1</th>\n",
              "      <td>1</td>\n",
              "      <td>Apple</td>\n",
              "      <td>Macbook Air M1 Çip 8gb 256gb Ssd Macos 13\" Qhd...</td>\n",
              "      <td>27349.0</td>\n",
              "      <td>2060.0</td>\n",
              "      <td>4.81</td>\n",
              "      <td>[{'rating': 5.0, 'reviewer_name': 'F** T**', '...</td>\n",
              "      <td>{5.0: 1192, 4.0: 81, 3.0: 13, 2.0: 8, 1.0: 47}</td>\n",
              "    </tr>\n",
              "    <tr>\n",
              "      <th>2</th>\n",
              "      <td>2</td>\n",
              "      <td>MONSTER</td>\n",
              "      <td>Abra A5 V20.4.2 Intel Core i5 12450H 32 GB RAM...</td>\n",
              "      <td>28299.0</td>\n",
              "      <td>131.0</td>\n",
              "      <td>4.72</td>\n",
              "      <td>[{'rating': 5.0, 'reviewer_name': '**** ****',...</td>\n",
              "      <td>{5.0: 77, 4.0: 6, 3.0: 3, 2.0: 1, 1.0: 2}</td>\n",
              "    </tr>\n",
              "    <tr>\n",
              "      <th>3</th>\n",
              "      <td>3</td>\n",
              "      <td>Casper</td>\n",
              "      <td>Nirvana C370.4020-4C00B Intel Celeron N4020 4G...</td>\n",
              "      <td>8099.0</td>\n",
              "      <td>395.0</td>\n",
              "      <td>4.22</td>\n",
              "      <td>[{'rating': 5.0, 'reviewer_name': 'G** U**', '...</td>\n",
              "      <td>{5.0: 189, 4.0: 31, 3.0: 21, 2.0: 3, 1.0: 39}</td>\n",
              "    </tr>\n",
              "    <tr>\n",
              "      <th>4</th>\n",
              "      <td>4</td>\n",
              "      <td>Casper</td>\n",
              "      <td>Excalibur G770.1245-bvj0x-b Intel Core I5-1245...</td>\n",
              "      <td>21999.0</td>\n",
              "      <td>456.0</td>\n",
              "      <td>4.4</td>\n",
              "      <td>[{'rating': 5.0, 'reviewer_name': 'N** U**', '...</td>\n",
              "      <td>{5.0: 197, 4.0: 44, 3.0: 14, 2.0: 7, 1.0: 37}</td>\n",
              "    </tr>\n",
              "  </tbody>\n",
              "</table>\n",
              "</div>"
            ],
            "text/plain": [
              "   index    brand                                               name    price  \\\n",
              "0      0   Casper  Excalibur G870.1245-DFB0X-B Intel Core i5-1245...  27999.0   \n",
              "1      1    Apple  Macbook Air M1 Çip 8gb 256gb Ssd Macos 13\" Qhd...  27349.0   \n",
              "2      2  MONSTER  Abra A5 V20.4.2 Intel Core i5 12450H 32 GB RAM...  28299.0   \n",
              "3      3   Casper  Nirvana C370.4020-4C00B Intel Celeron N4020 4G...   8099.0   \n",
              "4      4   Casper  Excalibur G770.1245-bvj0x-b Intel Core I5-1245...  21999.0   \n",
              "\n",
              "   rating_count rating                                            reviews  \\\n",
              "0         141.0   4.64  [{'rating': 5.0, 'reviewer_name': 'Emre Ş.', '...   \n",
              "1        2060.0   4.81  [{'rating': 5.0, 'reviewer_name': 'F** T**', '...   \n",
              "2         131.0   4.72  [{'rating': 5.0, 'reviewer_name': '**** ****',...   \n",
              "3         395.0   4.22  [{'rating': 5.0, 'reviewer_name': 'G** U**', '...   \n",
              "4         456.0    4.4  [{'rating': 5.0, 'reviewer_name': 'N** U**', '...   \n",
              "\n",
              "                                    rating_scores  \n",
              "0       {5.0: 79, 4.0: 8, 3.0: 4, 2.0: 0, 1.0: 4}  \n",
              "1  {5.0: 1192, 4.0: 81, 3.0: 13, 2.0: 8, 1.0: 47}  \n",
              "2       {5.0: 77, 4.0: 6, 3.0: 3, 2.0: 1, 1.0: 2}  \n",
              "3   {5.0: 189, 4.0: 31, 3.0: 21, 2.0: 3, 1.0: 39}  \n",
              "4   {5.0: 197, 4.0: 44, 3.0: 14, 2.0: 7, 1.0: 37}  "
            ]
          },
          "execution_count": 9,
          "metadata": {},
          "output_type": "execute_result"
        }
      ],
      "source": [
        "df.head()"
      ]
    },
    {
      "cell_type": "code",
      "execution_count": 9,
      "metadata": {},
      "outputs": [
        {
          "data": {
            "text/plain": [
              "95"
            ]
          },
          "execution_count": 9,
          "metadata": {},
          "output_type": "execute_result"
        }
      ],
      "source": [
        "len(df.iloc[0].reviews)"
      ]
    }
  ],
  "metadata": {
    "colab": {
      "authorship_tag": "ABX9TyMQkTaoGAuTqIs8SrD2OMSk",
      "include_colab_link": true,
      "provenance": []
    },
    "kernelspec": {
      "display_name": "Python 3",
      "name": "python3"
    },
    "language_info": {
      "codemirror_mode": {
        "name": "ipython",
        "version": 3
      },
      "file_extension": ".py",
      "mimetype": "text/x-python",
      "name": "python",
      "nbconvert_exporter": "python",
      "pygments_lexer": "ipython3",
      "version": "3.12.3"
    }
  },
  "nbformat": 4,
  "nbformat_minor": 0
}
